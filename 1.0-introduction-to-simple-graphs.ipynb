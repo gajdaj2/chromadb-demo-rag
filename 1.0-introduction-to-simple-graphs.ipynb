{
 "cells": [
  {
   "cell_type": "markdown",
   "metadata": {},
   "source": [
    "# States\n",
    "# Nodes\n",
    "# Edges\n",
    "# Graph (build & invoke)"
   ]
  },
  {
   "cell_type": "code",
   "metadata": {
    "ExecuteTime": {
     "end_time": "2024-11-29T13:50:39.792831Z",
     "start_time": "2024-11-29T13:50:36.881079Z"
    }
   },
   "source": [
    "from dotenv import load_dotenv\n",
    "%%capture --no-stderr\n",
    "%pip install --quiet -U langgraph"
   ],
   "outputs": [],
   "execution_count": 1
  },
  {
   "cell_type": "markdown",
   "metadata": {},
   "source": [
    "# <img src=\"2024-11-07-17-45-33.png\" width=\"50%\"/>"
   ]
  },
  {
   "cell_type": "code",
   "metadata": {
    "ExecuteTime": {
     "end_time": "2024-11-29T14:05:17.481876Z",
     "start_time": "2024-11-29T14:05:17.466576Z"
    }
   },
   "source": "load_dotenv()",
   "outputs": [
    {
     "ename": "NameError",
     "evalue": "name 'load_dotenv' is not defined",
     "output_type": "error",
     "traceback": [
      "\u001B[0;31m---------------------------------------------------------------------------\u001B[0m",
      "\u001B[0;31mNameError\u001B[0m                                 Traceback (most recent call last)",
      "Cell \u001B[0;32mIn[3], line 1\u001B[0m\n\u001B[0;32m----> 1\u001B[0m \u001B[43mload_dotenv\u001B[49m()\n",
      "\u001B[0;31mNameError\u001B[0m: name 'load_dotenv' is not defined"
     ]
    }
   ],
   "execution_count": 3
  },
  {
   "cell_type": "code",
   "metadata": {
    "ExecuteTime": {
     "end_time": "2024-11-24T15:09:30.740130Z",
     "start_time": "2024-11-24T15:09:30.735338Z"
    }
   },
   "source": [
    "from langgraph.graph import StateGraph, START, END"
   ],
   "outputs": [],
   "execution_count": 14
  },
  {
   "cell_type": "markdown",
   "metadata": {},
   "source": [
    "# State\n",
    "\n",
    "State as a simple data structure that we update as we execute the graph."
   ]
  },
  {
   "cell_type": "code",
   "metadata": {
    "ExecuteTime": {
     "end_time": "2024-11-24T15:09:34.161239Z",
     "start_time": "2024-11-24T15:09:34.159306Z"
    }
   },
   "source": [],
   "outputs": [],
   "execution_count": null
  },
  {
   "cell_type": "code",
   "metadata": {
    "ExecuteTime": {
     "end_time": "2024-11-29T14:08:23.322301Z",
     "start_time": "2024-11-29T14:08:23.314950Z"
    }
   },
   "source": [
    "from typing_extensions import TypedDict\n",
    "\n",
    "class State(TypedDict):\n",
    "    \n",
    "    graph_state: str\n",
    "    kg_asked_question: str\n",
    "    lv_asked_for_a_review: int"
   ],
   "outputs": [],
   "execution_count": 4
  },
  {
   "cell_type": "code",
   "metadata": {
    "ExecuteTime": {
     "end_time": "2024-11-29T14:08:24.312918Z",
     "start_time": "2024-11-29T14:08:24.309196Z"
    }
   },
   "source": [
    "from typing import Literal\n",
    "import random\n",
    "\n",
    "def node1(state):\n",
    "    print(\"Passing by node 1\")\n",
    "    state[\"graph_state\"] = \"Jakub giving a presentation\"\n",
    "    state[\"kg_asked_question\"] = \"It was a beautiful question!\"\n",
    "    state[\"lv_asked_for_a_review\"] = 1\n",
    "    return state"
   ],
   "outputs": [],
   "execution_count": 5
  },
  {
   "cell_type": "code",
   "metadata": {
    "ExecuteTime": {
     "end_time": "2024-11-29T14:08:25.817895Z",
     "start_time": "2024-11-29T14:08:25.154463Z"
    }
   },
   "source": [
    "from langgraph.graph import StateGraph, START, END\n",
    "\n",
    "builder = StateGraph(State)\n",
    "\n",
    "builder.add_node(\"node1\", node1)\n",
    "\n",
    "builder.add_edge(START, \"node1\")\n",
    "\n",
    "builder.add_edge(\"node1\", END)\n",
    "\n",
    "graph = builder.compile()"
   ],
   "outputs": [],
   "execution_count": 6
  },
  {
   "cell_type": "code",
   "metadata": {
    "ExecuteTime": {
     "end_time": "2024-11-29T14:08:27.041554Z",
     "start_time": "2024-11-29T14:08:26.536635Z"
    }
   },
   "source": [
    "from IPython.display import Image, display\n",
    "\n",
    "display(Image(graph.get_graph().draw_mermaid_png()))"
   ],
   "outputs": [
    {
     "data": {
      "image/png": "[encoded data removed]",
      "text/plain": [
       "<IPython.core.display.Image object>"
      ]
     },
     "metadata": {},
     "output_type": "display_data"
    }
   ],
   "execution_count": 7
  },
  {
   "cell_type": "code",
   "metadata": {
    "ExecuteTime": {
     "end_time": "2024-11-29T14:08:28.580920Z",
     "start_time": "2024-11-29T14:08:28.571813Z"
    }
   },
   "source": [
    "graph.invoke({\"graph_state\": \"\"})"
   ],
   "outputs": [
    {
     "name": "stdout",
     "output_type": "stream",
     "text": [
      "Passing by node 1\n"
     ]
    },
    {
     "data": {
      "text/plain": [
       "{'graph_state': 'Jakub giving a presentation',\n",
       " 'kg_asked_question': 'It was a beautiful question!',\n",
       " 'lv_asked_for_a_review': 1}"
      ]
     },
     "execution_count": 8,
     "metadata": {},
     "output_type": "execute_result"
    }
   ],
   "execution_count": 8
  },
  {
   "cell_type": "code",
   "metadata": {
    "ExecuteTime": {
     "end_time": "2024-11-29T14:09:44.914694Z",
     "start_time": "2024-11-29T14:09:44.910178Z"
    }
   },
   "source": [
    "from typing import Literal\n",
    "import random\n",
    "\n",
    "def node1(state):\n",
    "    print(\"Passing by node 1\")\n",
    "    state[\"graph_state\"] = \"node 1\"\n",
    "    return state\n",
    "\n",
    "def node2(state):\n",
    "    print(\"Passing by node 2\")\n",
    "    state[\"graph_state\"] = \"node 2\" \n",
    "    return state\n",
    "\n",
    "def node3(state):\n",
    "    print(\"Passing by node 3\")\n",
    "    state[\"graph_state\"] = \"node 3\"\n",
    "    return state\n",
    "\n",
    "# Implementing some conditional logic\n",
    "def decision_node(state) -> Literal[\"node2\", \"node3\"]:\n",
    "    \n",
    "    user_input = state[\"graph_state\"]\n",
    "    \n",
    "    if random.random() > 0.5:\n",
    "        return \"node2\"\n",
    "    else:\n",
    "        return \"node3\""
   ],
   "outputs": [],
   "execution_count": 10
  },
  {
   "cell_type": "code",
   "metadata": {
    "ExecuteTime": {
     "end_time": "2024-11-29T14:10:14.974390Z",
     "start_time": "2024-11-29T14:10:14.970450Z"
    }
   },
   "source": [
    "builder = StateGraph(State)\n",
    "\n",
    "builder.add_node(\"node1\", node1)\n",
    "builder.add_node(\"node2\", node2)\n",
    "builder.add_node(\"node3\", node3)\n",
    "\n",
    "builder.add_edge(START, \"node1\")\n",
    "builder.add_conditional_edges(\"node1\",decision_node)\n",
    "builder.add_edge(\"node2\", END)\n",
    "builder.add_edge(\"node3\", END)\n",
    "\n",
    "graph = builder.compile()"
   ],
   "outputs": [],
   "execution_count": 11
  },
  {
   "cell_type": "code",
   "metadata": {
    "ExecuteTime": {
     "end_time": "2024-11-29T14:10:17.198843Z",
     "start_time": "2024-11-29T14:10:16.674340Z"
    }
   },
   "source": [
    "from IPython.display import Image, display\n",
    "\n",
    "display(Image(graph.get_graph().draw_mermaid_png()))"
   ],
   "outputs": [
    {
     "data": {
      "image/png": "[encoded data removed]",
      "text/plain": [
       "<IPython.core.display.Image object>"
      ]
     },
     "metadata": {},
     "output_type": "display_data"
    }
   ],
   "execution_count": 12
  },
  {
   "cell_type": "code",
   "metadata": {
    "ExecuteTime": {
     "end_time": "2024-11-29T14:10:29.300681Z",
     "start_time": "2024-11-29T14:10:29.296438Z"
    }
   },
   "source": [
    "graph.invoke({\"graph_state\": \"\"})"
   ],
   "outputs": [
    {
     "name": "stdout",
     "output_type": "stream",
     "text": [
      "Passing by node 1\n",
      "Passing by node 3\n"
     ]
    },
    {
     "data": {
      "text/plain": [
       "{'graph_state': 'node 3'}"
      ]
     },
     "execution_count": 13,
     "metadata": {},
     "output_type": "execute_result"
    }
   ],
   "execution_count": 13
  },
  {
   "cell_type": "code",
   "metadata": {
    "ExecuteTime": {
     "end_time": "2024-11-29T14:10:35.254092Z",
     "start_time": "2024-11-29T14:10:34.059576Z"
    }
   },
   "source": [
    "import matplotlib.pyplot as plt"
   ],
   "outputs": [],
   "execution_count": 14
  },
  {
   "cell_type": "code",
   "metadata": {
    "ExecuteTime": {
     "end_time": "2024-11-29T14:10:36.180712Z",
     "start_time": "2024-11-29T14:10:35.875176Z"
    }
   },
   "source": [
    "# Run multiple times to collect statistics\n",
    "results = []\n",
    "for _ in range(100):\n",
    "    output = graph.invoke({\"graph_state\": \"\"})\n",
    "    results.append(output[\"graph_state\"])\n",
    "\n",
    "# Count occurrences\n",
    "node2_count = results.count(\"node 2\")\n",
    "node3_count = results.count(\"node 3\") \n",
    "\n",
    "# Create bar chart\n",
    "\n",
    "\n",
    "plt.figure(figsize=(8,5))\n",
    "plt.bar(['Node 2', 'Node 3'], [node2_count, node3_count])\n",
    "plt.title('Distribution of Graph State Outcomes')\n",
    "plt.ylabel('Count')\n",
    "plt.show()\n",
    "\n",
    "print(f\"Node 2 occurred {node2_count} times\")\n",
    "print(f\"Node 3 occurred {node3_count} times\")\n"
   ],
   "outputs": [
    {
     "name": "stdout",
     "output_type": "stream",
     "text": [
      "Passing by node 1\n",
      "Passing by node 2\n",
      "Passing by node 1\n",
      "Passing by node 2\n",
      "Passing by node 1\n",
      "Passing by node 3\n",
      "Passing by node 1\n",
      "Passing by node 2\n",
      "Passing by node 1\n",
      "Passing by node 2\n",
      "Passing by node 1\n",
      "Passing by node 3\n",
      "Passing by node 1\n",
      "Passing by node 3\n",
      "Passing by node 1\n",
      "Passing by node 3\n",
      "Passing by node 1\n",
      "Passing by node 3\n",
      "Passing by node 1\n",
      "Passing by node 2\n",
      "Passing by node 1\n",
      "Passing by node 2\n",
      "Passing by node 1\n",
      "Passing by node 3\n",
      "Passing by node 1\n",
      "Passing by node 2\n",
      "Passing by node 1\n",
      "Passing by node 3\n",
      "Passing by node 1\n",
      "Passing by node 2\n",
      "Passing by node 1\n",
      "Passing by node 2\n",
      "Passing by node 1\n",
      "Passing by node 2\n",
      "Passing by node 1\n",
      "Passing by node 2\n",
      "Passing by node 1\n",
      "Passing by node 3\n",
      "Passing by node 1\n",
      "Passing by node 2\n",
      "Passing by node 1\n",
      "Passing by node 3\n",
      "Passing by node 1\n",
      "Passing by node 3\n",
      "Passing by node 1\n",
      "Passing by node 2\n",
      "Passing by node 1\n",
      "Passing by node 3\n",
      "Passing by node 1\n",
      "Passing by node 3\n",
      "Passing by node 1\n",
      "Passing by node 3\n",
      "Passing by node 1\n",
      "Passing by node 3\n",
      "Passing by node 1\n",
      "Passing by node 2\n",
      "Passing by node 1\n",
      "Passing by node 2\n",
      "Passing by node 1\n",
      "Passing by node 2\n",
      "Passing by node 1\n",
      "Passing by node 3\n",
      "Passing by node 1\n",
      "Passing by node 2\n",
      "Passing by node 1\n",
      "Passing by node 2\n",
      "Passing by node 1\n",
      "Passing by node 3\n",
      "Passing by node 1\n",
      "Passing by node 2\n",
      "Passing by node 1\n",
      "Passing by node 2\n",
      "Passing by node 1\n",
      "Passing by node 2\n",
      "Passing by node 1\n",
      "Passing by node 2\n",
      "Passing by node 1\n",
      "Passing by node 3\n",
      "Passing by node 1\n",
      "Passing by node 2\n",
      "Passing by node 1\n",
      "Passing by node 2\n",
      "Passing by node 1\n",
      "Passing by node 2\n",
      "Passing by node 1\n",
      "Passing by node 2\n",
      "Passing by node 1\n",
      "Passing by node 3\n",
      "Passing by node 1\n",
      "Passing by node 2\n",
      "Passing by node 1\n",
      "Passing by node 3\n",
      "Passing by node 1\n",
      "Passing by node 3\n",
      "Passing by node 1\n",
      "Passing by node 3\n",
      "Passing by node 1\n",
      "Passing by node 2\n",
      "Passing by node 1\n",
      "Passing by node 2\n",
      "Passing by node 1\n",
      "Passing by node 2\n",
      "Passing by node 1\n",
      "Passing by node 2\n",
      "Passing by node 1\n",
      "Passing by node 3\n",
      "Passing by node 1\n",
      "Passing by node 3\n",
      "Passing by node 1\n",
      "Passing by node 2\n",
      "Passing by node 1\n",
      "Passing by node 2\n",
      "Passing by node 1\n",
      "Passing by node 3\n",
      "Passing by node 1\n",
      "Passing by node 3\n",
      "Passing by node 1\n",
      "Passing by node 2\n",
      "Passing by node 1\n",
      "Passing by node 3\n",
      "Passing by node 1\n",
      "Passing by node 3\n",
      "Passing by node 1\n",
      "Passing by node 2\n",
      "Passing by node 1\n",
      "Passing by node 3\n",
      "Passing by node 1\n",
      "Passing by node 2\n",
      "Passing by node 1\n",
      "Passing by node 2\n",
      "Passing by node 1\n",
      "Passing by node 3\n",
      "Passing by node 1\n",
      "Passing by node 2\n",
      "Passing by node 1\n",
      "Passing by node 2\n",
      "Passing by node 1\n",
      "Passing by node 3\n",
      "Passing by node 1\n",
      "Passing by node 3\n",
      "Passing by node 1\n",
      "Passing by node 3\n",
      "Passing by node 1\n",
      "Passing by node 3\n",
      "Passing by node 1\n",
      "Passing by node 3\n",
      "Passing by node 1\n",
      "Passing by node 3\n",
      "Passing by node 1\n",
      "Passing by node 3\n",
      "Passing by node 1\n",
      "Passing by node 3\n",
      "Passing by node 1\n",
      "Passing by node 3\n",
      "Passing by node 1\n",
      "Passing by node 2\n",
      "Passing by node 1\n",
      "Passing by node 3\n",
      "Passing by node 1\n",
      "Passing by node 3\n",
      "Passing by node 1\n",
      "Passing by node 3\n",
      "Passing by node 1\n",
      "Passing by node 3\n",
      "Passing by node 1\n",
      "Passing by node 3\n",
      "Passing by node 1\n",
      "Passing by node 2\n",
      "Passing by node 1\n",
      "Passing by node 2\n",
      "Passing by node 1\n",
      "Passing by node 3\n",
      "Passing by node 1\n",
      "Passing by node 2\n",
      "Passing by node 1\n",
      "Passing by node 2\n",
      "Passing by node 1\n",
      "Passing by node 2\n",
      "Passing by node 1\n",
      "Passing by node 3\n",
      "Passing by node 1\n",
      "Passing by node 3\n",
      "Passing by node 1\n",
      "Passing by node 3\n",
      "Passing by node 1\n",
      "Passing by node 2\n",
      "Passing by node 1\n",
      "Passing by node 2\n",
      "Passing by node 1\n",
      "Passing by node 3\n",
      "Passing by node 1\n",
      "Passing by node 3\n",
      "Passing by node 1\n",
      "Passing by node 3\n",
      "Passing by node 1\n",
      "Passing by node 2\n",
      "Passing by node 1\n",
      "Passing by node 3\n",
      "Passing by node 1\n",
      "Passing by node 3\n"
     ]
    },
    {
     "data": {
      "text/plain": [
       "<Figure size 800x500 with 1 Axes>"
      ],
      "image/png": "[encoded data removed]"
     },
     "metadata": {},
     "output_type": "display_data"
    },
    {
     "name": "stdout",
     "output_type": "stream",
     "text": [
      "Node 2 occurred 48 times\n",
      "Node 3 occurred 52 times\n"
     ]
    }
   ],
   "execution_count": 15
  },
  {
   "metadata": {},
   "cell_type": "code",
   "outputs": [],
   "execution_count": null,
   "source": ""
  }
 ],
 "metadata": {
  "kernelspec": {
   "display_name": "Python 3 (ipykernel)",
   "language": "python",
   "name": "python3"
  },
  "language_info": {
   "codemirror_mode": {
    "name": "ipython",
    "version": 3
   },
   "file_extension": ".py",
   "mimetype": "text/x-python",
   "name": "python",
   "nbconvert_exporter": "python",
   "pygments_lexer": "ipython3",
   "version": "3.11.10"
  }
 },
 "nbformat": 4,
 "nbformat_minor": 2
}
