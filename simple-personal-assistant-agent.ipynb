{
 "cells": [
  {
   "cell_type": "code",
   "metadata": {
    "execution": {
     "iopub.execute_input": "2024-07-18T12:05:25.923353Z",
     "iopub.status.busy": "2024-07-18T12:05:25.923081Z",
     "iopub.status.idle": "2024-07-18T12:05:25.928000Z",
     "shell.execute_reply": "2024-07-18T12:05:25.927491Z"
    },
    "ExecuteTime": {
     "end_time": "2024-11-29T12:56:01.132758Z",
     "start_time": "2024-11-29T12:55:50.949256Z"
    }
   },
   "source": [
    "%pip install langchain\n",
    "%pip install langchain-community\n",
    "%pip install langchain-openai"
   ],
   "outputs": [
    {
     "name": "stdout",
     "output_type": "stream",
     "text": [
      "Requirement already satisfied: langchain in ./.venv/lib/python3.12/site-packages (0.3.9)\r\n",
      "Requirement already satisfied: PyYAML>=5.3 in ./.venv/lib/python3.12/site-packages (from langchain) (6.0.2)\r\n",
      "Requirement already satisfied: SQLAlchemy<3,>=1.4 in ./.venv/lib/python3.12/site-packages (from langchain) (2.0.35)\r\n",
      "Requirement already satisfied: aiohttp<4.0.0,>=3.8.3 in ./.venv/lib/python3.12/site-packages (from langchain) (3.10.10)\r\n",
      "Requirement already satisfied: langchain-core<0.4.0,>=0.3.21 in ./.venv/lib/python3.12/site-packages (from langchain) (0.3.21)\r\n",
      "Requirement already satisfied: langchain-text-splitters<0.4.0,>=0.3.0 in ./.venv/lib/python3.12/site-packages (from langchain) (0.3.2)\r\n",
      "Requirement already satisfied: langsmith<0.2.0,>=0.1.17 in ./.venv/lib/python3.12/site-packages (from langchain) (0.1.142)\r\n",
      "Requirement already satisfied: numpy<3,>=1.26.2 in ./.venv/lib/python3.12/site-packages (from langchain) (1.26.4)\r\n",
      "Requirement already satisfied: pydantic<3.0.0,>=2.7.4 in ./.venv/lib/python3.12/site-packages (from langchain) (2.9.2)\r\n",
      "Requirement already satisfied: requests<3,>=2 in ./.venv/lib/python3.12/site-packages (from langchain) (2.32.3)\r\n",
      "Requirement already satisfied: tenacity!=8.4.0,<10,>=8.1.0 in ./.venv/lib/python3.12/site-packages (from langchain) (9.0.0)\r\n",
      "Requirement already satisfied: aiohappyeyeballs>=2.3.0 in ./.venv/lib/python3.12/site-packages (from aiohttp<4.0.0,>=3.8.3->langchain) (2.4.3)\r\n",
      "Requirement already satisfied: aiosignal>=1.1.2 in ./.venv/lib/python3.12/site-packages (from aiohttp<4.0.0,>=3.8.3->langchain) (1.3.1)\r\n",
      "Requirement already satisfied: attrs>=17.3.0 in ./.venv/lib/python3.12/site-packages (from aiohttp<4.0.0,>=3.8.3->langchain) (24.2.0)\r\n",
      "Requirement already satisfied: frozenlist>=1.1.1 in ./.venv/lib/python3.12/site-packages (from aiohttp<4.0.0,>=3.8.3->langchain) (1.5.0)\r\n",
      "Requirement already satisfied: multidict<7.0,>=4.5 in ./.venv/lib/python3.12/site-packages (from aiohttp<4.0.0,>=3.8.3->langchain) (6.1.0)\r\n",
      "Requirement already satisfied: yarl<2.0,>=1.12.0 in ./.venv/lib/python3.12/site-packages (from aiohttp<4.0.0,>=3.8.3->langchain) (1.17.1)\r\n",
      "Requirement already satisfied: jsonpatch<2.0,>=1.33 in ./.venv/lib/python3.12/site-packages (from langchain-core<0.4.0,>=0.3.21->langchain) (1.33)\r\n",
      "Requirement already satisfied: packaging<25,>=23.2 in ./.venv/lib/python3.12/site-packages (from langchain-core<0.4.0,>=0.3.21->langchain) (24.2)\r\n",
      "Requirement already satisfied: typing-extensions>=4.7 in ./.venv/lib/python3.12/site-packages (from langchain-core<0.4.0,>=0.3.21->langchain) (4.12.2)\r\n",
      "Requirement already satisfied: httpx<1,>=0.23.0 in ./.venv/lib/python3.12/site-packages (from langsmith<0.2.0,>=0.1.17->langchain) (0.27.2)\r\n",
      "Requirement already satisfied: orjson<4.0.0,>=3.9.14 in ./.venv/lib/python3.12/site-packages (from langsmith<0.2.0,>=0.1.17->langchain) (3.10.11)\r\n",
      "Requirement already satisfied: requests-toolbelt<2.0.0,>=1.0.0 in ./.venv/lib/python3.12/site-packages (from langsmith<0.2.0,>=0.1.17->langchain) (1.0.0)\r\n",
      "Requirement already satisfied: annotated-types>=0.6.0 in ./.venv/lib/python3.12/site-packages (from pydantic<3.0.0,>=2.7.4->langchain) (0.7.0)\r\n",
      "Requirement already satisfied: pydantic-core==2.23.4 in ./.venv/lib/python3.12/site-packages (from pydantic<3.0.0,>=2.7.4->langchain) (2.23.4)\r\n",
      "Requirement already satisfied: charset-normalizer<4,>=2 in ./.venv/lib/python3.12/site-packages (from requests<3,>=2->langchain) (3.4.0)\r\n",
      "Requirement already satisfied: idna<4,>=2.5 in ./.venv/lib/python3.12/site-packages (from requests<3,>=2->langchain) (3.10)\r\n",
      "Requirement already satisfied: urllib3<3,>=1.21.1 in ./.venv/lib/python3.12/site-packages (from requests<3,>=2->langchain) (2.2.3)\r\n",
      "Requirement already satisfied: certifi>=2017.4.17 in ./.venv/lib/python3.12/site-packages (from requests<3,>=2->langchain) (2024.8.30)\r\n",
      "Requirement already satisfied: anyio in ./.venv/lib/python3.12/site-packages (from httpx<1,>=0.23.0->langsmith<0.2.0,>=0.1.17->langchain) (4.6.2.post1)\r\n",
      "Requirement already satisfied: httpcore==1.* in ./.venv/lib/python3.12/site-packages (from httpx<1,>=0.23.0->langsmith<0.2.0,>=0.1.17->langchain) (1.0.6)\r\n",
      "Requirement already satisfied: sniffio in ./.venv/lib/python3.12/site-packages (from httpx<1,>=0.23.0->langsmith<0.2.0,>=0.1.17->langchain) (1.3.1)\r\n",
      "Requirement already satisfied: h11<0.15,>=0.13 in ./.venv/lib/python3.12/site-packages (from httpcore==1.*->httpx<1,>=0.23.0->langsmith<0.2.0,>=0.1.17->langchain) (0.14.0)\r\n",
      "Requirement already satisfied: jsonpointer>=1.9 in ./.venv/lib/python3.12/site-packages (from jsonpatch<2.0,>=1.33->langchain-core<0.4.0,>=0.3.21->langchain) (3.0.0)\r\n",
      "Requirement already satisfied: propcache>=0.2.0 in ./.venv/lib/python3.12/site-packages (from yarl<2.0,>=1.12.0->aiohttp<4.0.0,>=3.8.3->langchain) (0.2.0)\r\n",
      "\r\n",
      "\u001B[1m[\u001B[0m\u001B[34;49mnotice\u001B[0m\u001B[1;39;49m]\u001B[0m\u001B[39;49m A new release of pip is available: \u001B[0m\u001B[31;49m23.2.1\u001B[0m\u001B[39;49m -> \u001B[0m\u001B[32;49m24.3.1\u001B[0m\r\n",
      "\u001B[1m[\u001B[0m\u001B[34;49mnotice\u001B[0m\u001B[1;39;49m]\u001B[0m\u001B[39;49m To update, run: \u001B[0m\u001B[32;49mpip install --upgrade pip\u001B[0m\r\n",
      "Note: you may need to restart the kernel to use updated packages.\n",
      "Requirement already satisfied: langchain-community in ./.venv/lib/python3.12/site-packages (0.3.8)\r\n",
      "Requirement already satisfied: PyYAML>=5.3 in ./.venv/lib/python3.12/site-packages (from langchain-community) (6.0.2)\r\n",
      "Requirement already satisfied: SQLAlchemy<2.0.36,>=1.4 in ./.venv/lib/python3.12/site-packages (from langchain-community) (2.0.35)\r\n",
      "Requirement already satisfied: aiohttp<4.0.0,>=3.8.3 in ./.venv/lib/python3.12/site-packages (from langchain-community) (3.10.10)\r\n",
      "Requirement already satisfied: dataclasses-json<0.7,>=0.5.7 in ./.venv/lib/python3.12/site-packages (from langchain-community) (0.6.7)\r\n",
      "Requirement already satisfied: httpx-sse<0.5.0,>=0.4.0 in ./.venv/lib/python3.12/site-packages (from langchain-community) (0.4.0)\r\n",
      "Requirement already satisfied: langchain<0.4.0,>=0.3.8 in ./.venv/lib/python3.12/site-packages (from langchain-community) (0.3.9)\r\n",
      "Requirement already satisfied: langchain-core<0.4.0,>=0.3.21 in ./.venv/lib/python3.12/site-packages (from langchain-community) (0.3.21)\r\n",
      "Requirement already satisfied: langsmith<0.2.0,>=0.1.125 in ./.venv/lib/python3.12/site-packages (from langchain-community) (0.1.142)\r\n",
      "Requirement already satisfied: numpy<2,>=1.26.2 in ./.venv/lib/python3.12/site-packages (from langchain-community) (1.26.4)\r\n",
      "Requirement already satisfied: pydantic-settings<3.0.0,>=2.4.0 in ./.venv/lib/python3.12/site-packages (from langchain-community) (2.6.1)\r\n",
      "Requirement already satisfied: requests<3,>=2 in ./.venv/lib/python3.12/site-packages (from langchain-community) (2.32.3)\r\n",
      "Requirement already satisfied: tenacity!=8.4.0,<10,>=8.1.0 in ./.venv/lib/python3.12/site-packages (from langchain-community) (9.0.0)\r\n",
      "Requirement already satisfied: aiohappyeyeballs>=2.3.0 in ./.venv/lib/python3.12/site-packages (from aiohttp<4.0.0,>=3.8.3->langchain-community) (2.4.3)\r\n",
      "Requirement already satisfied: aiosignal>=1.1.2 in ./.venv/lib/python3.12/site-packages (from aiohttp<4.0.0,>=3.8.3->langchain-community) (1.3.1)\r\n",
      "Requirement already satisfied: attrs>=17.3.0 in ./.venv/lib/python3.12/site-packages (from aiohttp<4.0.0,>=3.8.3->langchain-community) (24.2.0)\r\n",
      "Requirement already satisfied: frozenlist>=1.1.1 in ./.venv/lib/python3.12/site-packages (from aiohttp<4.0.0,>=3.8.3->langchain-community) (1.5.0)\r\n",
      "Requirement already satisfied: multidict<7.0,>=4.5 in ./.venv/lib/python3.12/site-packages (from aiohttp<4.0.0,>=3.8.3->langchain-community) (6.1.0)\r\n",
      "Requirement already satisfied: yarl<2.0,>=1.12.0 in ./.venv/lib/python3.12/site-packages (from aiohttp<4.0.0,>=3.8.3->langchain-community) (1.17.1)\r\n",
      "Requirement already satisfied: marshmallow<4.0.0,>=3.18.0 in ./.venv/lib/python3.12/site-packages (from dataclasses-json<0.7,>=0.5.7->langchain-community) (3.23.1)\r\n",
      "Requirement already satisfied: typing-inspect<1,>=0.4.0 in ./.venv/lib/python3.12/site-packages (from dataclasses-json<0.7,>=0.5.7->langchain-community) (0.9.0)\r\n",
      "Requirement already satisfied: langchain-text-splitters<0.4.0,>=0.3.0 in ./.venv/lib/python3.12/site-packages (from langchain<0.4.0,>=0.3.8->langchain-community) (0.3.2)\r\n",
      "Requirement already satisfied: pydantic<3.0.0,>=2.7.4 in ./.venv/lib/python3.12/site-packages (from langchain<0.4.0,>=0.3.8->langchain-community) (2.9.2)\r\n",
      "Requirement already satisfied: jsonpatch<2.0,>=1.33 in ./.venv/lib/python3.12/site-packages (from langchain-core<0.4.0,>=0.3.21->langchain-community) (1.33)\r\n",
      "Requirement already satisfied: packaging<25,>=23.2 in ./.venv/lib/python3.12/site-packages (from langchain-core<0.4.0,>=0.3.21->langchain-community) (24.2)\r\n",
      "Requirement already satisfied: typing-extensions>=4.7 in ./.venv/lib/python3.12/site-packages (from langchain-core<0.4.0,>=0.3.21->langchain-community) (4.12.2)\r\n",
      "Requirement already satisfied: httpx<1,>=0.23.0 in ./.venv/lib/python3.12/site-packages (from langsmith<0.2.0,>=0.1.125->langchain-community) (0.27.2)\r\n",
      "Requirement already satisfied: orjson<4.0.0,>=3.9.14 in ./.venv/lib/python3.12/site-packages (from langsmith<0.2.0,>=0.1.125->langchain-community) (3.10.11)\r\n",
      "Requirement already satisfied: requests-toolbelt<2.0.0,>=1.0.0 in ./.venv/lib/python3.12/site-packages (from langsmith<0.2.0,>=0.1.125->langchain-community) (1.0.0)\r\n",
      "Requirement already satisfied: python-dotenv>=0.21.0 in ./.venv/lib/python3.12/site-packages (from pydantic-settings<3.0.0,>=2.4.0->langchain-community) (1.0.1)\r\n",
      "Requirement already satisfied: charset-normalizer<4,>=2 in ./.venv/lib/python3.12/site-packages (from requests<3,>=2->langchain-community) (3.4.0)\r\n",
      "Requirement already satisfied: idna<4,>=2.5 in ./.venv/lib/python3.12/site-packages (from requests<3,>=2->langchain-community) (3.10)\r\n",
      "Requirement already satisfied: urllib3<3,>=1.21.1 in ./.venv/lib/python3.12/site-packages (from requests<3,>=2->langchain-community) (2.2.3)\r\n",
      "Requirement already satisfied: certifi>=2017.4.17 in ./.venv/lib/python3.12/site-packages (from requests<3,>=2->langchain-community) (2024.8.30)\r\n",
      "Requirement already satisfied: anyio in ./.venv/lib/python3.12/site-packages (from httpx<1,>=0.23.0->langsmith<0.2.0,>=0.1.125->langchain-community) (4.6.2.post1)\r\n",
      "Requirement already satisfied: httpcore==1.* in ./.venv/lib/python3.12/site-packages (from httpx<1,>=0.23.0->langsmith<0.2.0,>=0.1.125->langchain-community) (1.0.6)\r\n",
      "Requirement already satisfied: sniffio in ./.venv/lib/python3.12/site-packages (from httpx<1,>=0.23.0->langsmith<0.2.0,>=0.1.125->langchain-community) (1.3.1)\r\n",
      "Requirement already satisfied: h11<0.15,>=0.13 in ./.venv/lib/python3.12/site-packages (from httpcore==1.*->httpx<1,>=0.23.0->langsmith<0.2.0,>=0.1.125->langchain-community) (0.14.0)\r\n",
      "Requirement already satisfied: jsonpointer>=1.9 in ./.venv/lib/python3.12/site-packages (from jsonpatch<2.0,>=1.33->langchain-core<0.4.0,>=0.3.21->langchain-community) (3.0.0)\r\n",
      "Requirement already satisfied: annotated-types>=0.6.0 in ./.venv/lib/python3.12/site-packages (from pydantic<3.0.0,>=2.7.4->langchain<0.4.0,>=0.3.8->langchain-community) (0.7.0)\r\n",
      "Requirement already satisfied: pydantic-core==2.23.4 in ./.venv/lib/python3.12/site-packages (from pydantic<3.0.0,>=2.7.4->langchain<0.4.0,>=0.3.8->langchain-community) (2.23.4)\r\n",
      "Requirement already satisfied: mypy-extensions>=0.3.0 in ./.venv/lib/python3.12/site-packages (from typing-inspect<1,>=0.4.0->dataclasses-json<0.7,>=0.5.7->langchain-community) (1.0.0)\r\n",
      "Requirement already satisfied: propcache>=0.2.0 in ./.venv/lib/python3.12/site-packages (from yarl<2.0,>=1.12.0->aiohttp<4.0.0,>=3.8.3->langchain-community) (0.2.0)\r\n",
      "\r\n",
      "\u001B[1m[\u001B[0m\u001B[34;49mnotice\u001B[0m\u001B[1;39;49m]\u001B[0m\u001B[39;49m A new release of pip is available: \u001B[0m\u001B[31;49m23.2.1\u001B[0m\u001B[39;49m -> \u001B[0m\u001B[32;49m24.3.1\u001B[0m\r\n",
      "\u001B[1m[\u001B[0m\u001B[34;49mnotice\u001B[0m\u001B[1;39;49m]\u001B[0m\u001B[39;49m To update, run: \u001B[0m\u001B[32;49mpip install --upgrade pip\u001B[0m\r\n",
      "Note: you may need to restart the kernel to use updated packages.\n",
      "Requirement already satisfied: langchain-openai in ./.venv/lib/python3.12/site-packages (0.2.10)\r\n",
      "Requirement already satisfied: langchain-core<0.4.0,>=0.3.21 in ./.venv/lib/python3.12/site-packages (from langchain-openai) (0.3.21)\r\n",
      "Requirement already satisfied: openai<2.0.0,>=1.54.0 in ./.venv/lib/python3.12/site-packages (from langchain-openai) (1.55.3)\r\n",
      "Requirement already satisfied: tiktoken<1,>=0.7 in ./.venv/lib/python3.12/site-packages (from langchain-openai) (0.8.0)\r\n",
      "Requirement already satisfied: PyYAML>=5.3 in ./.venv/lib/python3.12/site-packages (from langchain-core<0.4.0,>=0.3.21->langchain-openai) (6.0.2)\r\n",
      "Requirement already satisfied: jsonpatch<2.0,>=1.33 in ./.venv/lib/python3.12/site-packages (from langchain-core<0.4.0,>=0.3.21->langchain-openai) (1.33)\r\n",
      "Requirement already satisfied: langsmith<0.2.0,>=0.1.125 in ./.venv/lib/python3.12/site-packages (from langchain-core<0.4.0,>=0.3.21->langchain-openai) (0.1.142)\r\n",
      "Requirement already satisfied: packaging<25,>=23.2 in ./.venv/lib/python3.12/site-packages (from langchain-core<0.4.0,>=0.3.21->langchain-openai) (24.2)\r\n",
      "Requirement already satisfied: pydantic<3.0.0,>=2.5.2 in ./.venv/lib/python3.12/site-packages (from langchain-core<0.4.0,>=0.3.21->langchain-openai) (2.9.2)\r\n",
      "Requirement already satisfied: tenacity!=8.4.0,<10.0.0,>=8.1.0 in ./.venv/lib/python3.12/site-packages (from langchain-core<0.4.0,>=0.3.21->langchain-openai) (9.0.0)\r\n",
      "Requirement already satisfied: typing-extensions>=4.7 in ./.venv/lib/python3.12/site-packages (from langchain-core<0.4.0,>=0.3.21->langchain-openai) (4.12.2)\r\n",
      "Requirement already satisfied: anyio<5,>=3.5.0 in ./.venv/lib/python3.12/site-packages (from openai<2.0.0,>=1.54.0->langchain-openai) (4.6.2.post1)\r\n",
      "Requirement already satisfied: distro<2,>=1.7.0 in ./.venv/lib/python3.12/site-packages (from openai<2.0.0,>=1.54.0->langchain-openai) (1.9.0)\r\n",
      "Requirement already satisfied: httpx<1,>=0.23.0 in ./.venv/lib/python3.12/site-packages (from openai<2.0.0,>=1.54.0->langchain-openai) (0.27.2)\r\n",
      "Requirement already satisfied: jiter<1,>=0.4.0 in ./.venv/lib/python3.12/site-packages (from openai<2.0.0,>=1.54.0->langchain-openai) (0.8.0)\r\n",
      "Requirement already satisfied: sniffio in ./.venv/lib/python3.12/site-packages (from openai<2.0.0,>=1.54.0->langchain-openai) (1.3.1)\r\n",
      "Requirement already satisfied: tqdm>4 in ./.venv/lib/python3.12/site-packages (from openai<2.0.0,>=1.54.0->langchain-openai) (4.67.0)\r\n",
      "Requirement already satisfied: regex>=2022.1.18 in ./.venv/lib/python3.12/site-packages (from tiktoken<1,>=0.7->langchain-openai) (2024.11.6)\r\n",
      "Requirement already satisfied: requests>=2.26.0 in ./.venv/lib/python3.12/site-packages (from tiktoken<1,>=0.7->langchain-openai) (2.32.3)\r\n",
      "Requirement already satisfied: idna>=2.8 in ./.venv/lib/python3.12/site-packages (from anyio<5,>=3.5.0->openai<2.0.0,>=1.54.0->langchain-openai) (3.10)\r\n",
      "Requirement already satisfied: certifi in ./.venv/lib/python3.12/site-packages (from httpx<1,>=0.23.0->openai<2.0.0,>=1.54.0->langchain-openai) (2024.8.30)\r\n",
      "Requirement already satisfied: httpcore==1.* in ./.venv/lib/python3.12/site-packages (from httpx<1,>=0.23.0->openai<2.0.0,>=1.54.0->langchain-openai) (1.0.6)\r\n",
      "Requirement already satisfied: h11<0.15,>=0.13 in ./.venv/lib/python3.12/site-packages (from httpcore==1.*->httpx<1,>=0.23.0->openai<2.0.0,>=1.54.0->langchain-openai) (0.14.0)\r\n",
      "Requirement already satisfied: jsonpointer>=1.9 in ./.venv/lib/python3.12/site-packages (from jsonpatch<2.0,>=1.33->langchain-core<0.4.0,>=0.3.21->langchain-openai) (3.0.0)\r\n",
      "Requirement already satisfied: orjson<4.0.0,>=3.9.14 in ./.venv/lib/python3.12/site-packages (from langsmith<0.2.0,>=0.1.125->langchain-core<0.4.0,>=0.3.21->langchain-openai) (3.10.11)\r\n",
      "Requirement already satisfied: requests-toolbelt<2.0.0,>=1.0.0 in ./.venv/lib/python3.12/site-packages (from langsmith<0.2.0,>=0.1.125->langchain-core<0.4.0,>=0.3.21->langchain-openai) (1.0.0)\r\n",
      "Requirement already satisfied: annotated-types>=0.6.0 in ./.venv/lib/python3.12/site-packages (from pydantic<3.0.0,>=2.5.2->langchain-core<0.4.0,>=0.3.21->langchain-openai) (0.7.0)\r\n",
      "Requirement already satisfied: pydantic-core==2.23.4 in ./.venv/lib/python3.12/site-packages (from pydantic<3.0.0,>=2.5.2->langchain-core<0.4.0,>=0.3.21->langchain-openai) (2.23.4)\r\n",
      "Requirement already satisfied: charset-normalizer<4,>=2 in ./.venv/lib/python3.12/site-packages (from requests>=2.26.0->tiktoken<1,>=0.7->langchain-openai) (3.4.0)\r\n",
      "Requirement already satisfied: urllib3<3,>=1.21.1 in ./.venv/lib/python3.12/site-packages (from requests>=2.26.0->tiktoken<1,>=0.7->langchain-openai) (2.2.3)\r\n",
      "\r\n",
      "\u001B[1m[\u001B[0m\u001B[34;49mnotice\u001B[0m\u001B[1;39;49m]\u001B[0m\u001B[39;49m A new release of pip is available: \u001B[0m\u001B[31;49m23.2.1\u001B[0m\u001B[39;49m -> \u001B[0m\u001B[32;49m24.3.1\u001B[0m\r\n",
      "\u001B[1m[\u001B[0m\u001B[34;49mnotice\u001B[0m\u001B[1;39;49m]\u001B[0m\u001B[39;49m To update, run: \u001B[0m\u001B[32;49mpip install --upgrade pip\u001B[0m\r\n",
      "Note: you may need to restart the kernel to use updated packages.\n"
     ]
    }
   ],
   "execution_count": 1
  },
  {
   "cell_type": "code",
   "metadata": {
    "execution": {
     "iopub.execute_input": "2024-07-18T12:05:25.930789Z",
     "iopub.status.busy": "2024-07-18T12:05:25.930578Z",
     "iopub.status.idle": "2024-07-18T12:05:25.933119Z",
     "shell.execute_reply": "2024-07-18T12:05:25.932705Z"
    },
    "ExecuteTime": {
     "end_time": "2024-11-29T12:56:07.256527Z",
     "start_time": "2024-11-29T12:56:07.252142Z"
    }
   },
   "source": [
    "from dotenv.main import load_dotenv\n",
    "\n",
    "load_dotenv()\n"
   ],
   "outputs": [
    {
     "data": {
      "text/plain": [
       "True"
      ]
     },
     "execution_count": 3,
     "metadata": {},
     "output_type": "execute_result"
    }
   ],
   "execution_count": 3
  },
  {
   "cell_type": "markdown",
   "metadata": {},
   "source": [
    "Personal Assistant Agent\n",
    "- Accees to emails\n",
    "- acceess to my terminal for controlling different things like creating files etc...\n",
    "- Have the assistant create our tasks for us"
   ]
  },
  {
   "cell_type": "code",
   "metadata": {
    "execution": {
     "iopub.execute_input": "2024-07-18T12:05:25.935375Z",
     "iopub.status.busy": "2024-07-18T12:05:25.935207Z",
     "iopub.status.idle": "2024-07-18T12:05:26.472919Z",
     "shell.execute_reply": "2024-07-18T12:05:26.472671Z"
    },
    "ExecuteTime": {
     "end_time": "2024-11-29T12:56:13.264669Z",
     "start_time": "2024-11-29T12:56:11.892094Z"
    }
   },
   "source": [
    "from langchain.agents import create_tool_calling_agent\n",
    "from langchain_openai import ChatOpenAI\n",
    "from langchain import hub\n",
    "from langchain.tools import tool\n",
    "from langchain.agents import AgentExecutor\n",
    "from langchain_community.document_loaders import PyPDFLoader\n",
    "import subprocess\n",
    "import os\n",
    "import smtplib\n",
    "from email.mime.multipart import MIMEMultipart\n",
    "from email.mime.text import MIMEText\n",
    "import subprocess"
   ],
   "outputs": [],
   "execution_count": 4
  },
  {
   "cell_type": "code",
   "metadata": {
    "execution": {
     "iopub.execute_input": "2024-07-18T12:05:26.474523Z",
     "iopub.status.busy": "2024-07-18T12:05:26.474391Z",
     "iopub.status.idle": "2024-07-18T12:05:26.480307Z",
     "shell.execute_reply": "2024-07-18T12:05:26.480085Z"
    },
    "ExecuteTime": {
     "end_time": "2024-11-29T13:00:49.681257Z",
     "start_time": "2024-11-29T13:00:49.667906Z"
    }
   },
   "source": [
    "@tool\n",
    "def send_email(destination_email, message_content, subject_content):\n",
    "    \"This function takes in destination email and the contents and sends out an email.\"\n",
    "    # Sender email address\n",
    "    sender_email = \"#####\"\n",
    "\n",
    "    # Email Subject\n",
    "    try:\n",
    "        smtp_server = \"smtp.gmail.com\"\n",
    "        smtp_port = 587  # For starttls\n",
    "        sender_email = \"#####\"\n",
    "        smtp_user = sender_email\n",
    "\n",
    "        # Użyj hasła do aplikacji zamiast zwykłego hasła konta Google.\n",
    "        smtp_password = \"#######\"\n",
    "        if not smtp_password:\n",
    "            raise KeyError(\"Password not found in environment variables\")\n",
    "\n",
    "        # Create a multipart message and set headers\n",
    "        message = MIMEMultipart()\n",
    "        message[\"From\"] = sender_email\n",
    "        message[\"To\"] = destination_email\n",
    "        message[\"Subject\"] = subject_content\n",
    "\n",
    "        # Add body to email\n",
    "        message.attach(MIMEText(message_content, \"plain\"))\n",
    "\n",
    "        # Connect to the server and send email\n",
    "        server = smtplib.SMTP(smtp_server, smtp_port)\n",
    "        server.starttls()  # Secure the connection\n",
    "        server.login(smtp_user, smtp_password)\n",
    "        server.sendmail(sender_email, destination_email, message.as_string())\n",
    "        server.quit()\n",
    "        print(\"Email sent successfully!\")\n",
    "\n",
    "    except KeyError as e:\n",
    "        print(f\"Error: {e}. Ensure that the environment variable GMAIL_APP_PWD is set with your app-specific password.\")\n",
    "    except smtplib.SMTPAuthenticationError as e:\n",
    "        print(f\"SMTP Authentication Error: {e}. Ensure that you are using the app-specific password.\")\n",
    "\n",
    "\n",
    "@tool\n",
    "def execute_bash_command(command):\n",
    "    \"\"\"Executes a bash command.\"\"\"\n",
    "    result = subprocess.run(command, shell=True)\n",
    "    output = result.stdout\n",
    "    return output\n",
    "\n",
    "\n",
    "@tool\n",
    "def read_txt_tool(file_path):\n",
    "    \"\"\"Reads contents of a .txt file.\"\"\"\n",
    "    with open(file_path, \"r\") as f:\n",
    "        contents = f.read()\n",
    "\n",
    "    return contents\n",
    "\n",
    "\n",
    "@tool\n",
    "def summarize_pdf(pdfpath):\n",
    "    \"\"\"Summarizes the contents of a pdf\"\"\"\n",
    "    loader = PyPDFLoader(pdfpath)\n",
    "    documents = loader.load()\n",
    "    contents = \"\"\n",
    "    for doc in documents:\n",
    "        contents += doc.page_content + \"\\n\"\n",
    "\n",
    "    summary = ChatOpenAI(temperature=0, model=\"gpt-4o\").invoke(\n",
    "        f\"Summarize this content into simplified bullet points: {contents}\")\n",
    "\n",
    "    return summary.content\n",
    "\n",
    "\n",
    "\n",
    "tools = [execute_bash_command, send_email, read_txt_tool, summarize_pdf]"
   ],
   "outputs": [],
   "execution_count": 9
  },
  {
   "metadata": {
    "ExecuteTime": {
     "end_time": "2024-11-29T13:01:30.410935Z",
     "start_time": "2024-11-29T13:01:11.387461Z"
    }
   },
   "cell_type": "code",
   "source": "summarize_pdf(\"/Users/apple/open-source-mlops-e2e/Day3/microsoft/2023_Annual_Report.pdf\")",
   "outputs": [
    {
     "name": "stderr",
     "output_type": "stream",
     "text": [
      "Ignoring wrong pointing object 6 0 (offset 0)\n",
      "Ignoring wrong pointing object 8 0 (offset 0)\n",
      "Ignoring wrong pointing object 17 0 (offset 0)\n",
      "Ignoring wrong pointing object 22 0 (offset 0)\n",
      "Ignoring wrong pointing object 39 0 (offset 0)\n",
      "Ignoring wrong pointing object 46 0 (offset 0)\n",
      "Ignoring wrong pointing object 48 0 (offset 0)\n",
      "Ignoring wrong pointing object 50 0 (offset 0)\n",
      "Ignoring wrong pointing object 52 0 (offset 0)\n",
      "Ignoring wrong pointing object 54 0 (offset 0)\n",
      "Ignoring wrong pointing object 56 0 (offset 0)\n",
      "Ignoring wrong pointing object 58 0 (offset 0)\n",
      "Ignoring wrong pointing object 70 0 (offset 0)\n",
      "Ignoring wrong pointing object 153 0 (offset 0)\n",
      "Ignoring wrong pointing object 215 0 (offset 0)\n",
      "Ignoring wrong pointing object 217 0 (offset 0)\n",
      "Ignoring wrong pointing object 219 0 (offset 0)\n",
      "Ignoring wrong pointing object 221 0 (offset 0)\n",
      "Ignoring wrong pointing object 232 0 (offset 0)\n",
      "Ignoring wrong pointing object 250 0 (offset 0)\n",
      "Ignoring wrong pointing object 298 0 (offset 0)\n",
      "Ignoring wrong pointing object 310 0 (offset 0)\n",
      "Ignoring wrong pointing object 318 0 (offset 0)\n",
      "Ignoring wrong pointing object 320 0 (offset 0)\n",
      "Ignoring wrong pointing object 322 0 (offset 0)\n"
     ]
    },
    {
     "data": {
      "text/plain": [
       "\"**Summary of Content:**\\n\\n- **Introduction:**\\n  - Microsoft is navigating economic, social, and geopolitical challenges while leading in AI transformation.\\n  - The company aims to empower individuals and organizations globally with AI technology.\\n\\n- **AI and Business Transformation:**\\n  - Microsoft is integrating AI across its products and services, enhancing productivity and addressing global challenges.\\n  - Examples include AI applications in healthcare, e-commerce, automotive, and education.\\n\\n- **Strategic Priorities:**\\n  - Maintain leadership in commercial cloud and innovate in consumer categories.\\n  - Invest in AI to accelerate growth and align cost structure with revenue growth.\\n\\n- **Financial Performance:**\\n  - Fiscal year 2023 saw $211 billion in revenue and over $88 billion in operating income.\\n  - Microsoft Cloud revenue increased by 22%.\\n\\n- **AI Breakthroughs:**\\n  - Natural language and reasoning engines are key AI advancements.\\n  - Microsoft is integrating AI into its products, including the Copilot feature.\\n\\n- **Responsible AI Development:**\\n  - Microsoft emphasizes responsible AI development with safety and empowerment in mind.\\n\\n- **Infrastructure and Data:**\\n  - Investments in AI supercomputers and cloud infrastructure support AI advancements.\\n  - Microsoft Fabric and Azure AI offer comprehensive data and AI platforms.\\n\\n- **Productivity and Innovation:**\\n  - GitHub Copilot enhances developer productivity.\\n  - AI is integrated into low-code/no-code tools and business applications.\\n\\n- **Industry and Modern Work:**\\n  - Microsoft is a partner of choice for AI solutions across industries.\\n  - Microsoft 365 evolves into an AI-first platform for productivity.\\n\\n- **Security and Digital Safety:**\\n  - AI-powered security solutions protect against cyber threats.\\n  - Microsoft Edge and Bing integrate AI for enhanced web experiences.\\n\\n- **Corporate Social Responsibility:**\\n  - Microsoft focuses on sustainability, racial equity, and digital skills development.\\n  - The company aims to be carbon negative, water positive, and zero waste by 2030.\\n\\n- **Human Capital and Culture:**\\n  - Microsoft fosters a diverse and inclusive work environment.\\n  - Employee engagement and development are prioritized.\\n\\n- **Financial Highlights:**\\n  - Share repurchase programs and dividends are part of capital allocation.\\n  - Microsoft continues to invest in growth areas and strategic acquisitions.\\n\\n- **Governance and Leadership:**\\n  - The Board of Directors and executive officers guide Microsoft's strategic direction.\\n  - Investor relations provide resources and information for shareholders.\""
      ]
     },
     "execution_count": 11,
     "metadata": {},
     "output_type": "execute_result"
    }
   ],
   "execution_count": 11
  },
  {
   "cell_type": "code",
   "metadata": {
    "execution": {
     "iopub.execute_input": "2024-07-18T12:05:26.481583Z",
     "iopub.status.busy": "2024-07-18T12:05:26.481508Z",
     "iopub.status.idle": "2024-07-18T12:05:27.146899Z",
     "shell.execute_reply": "2024-07-18T12:05:27.146646Z"
    },
    "ExecuteTime": {
     "end_time": "2024-11-29T13:01:30.872085Z",
     "start_time": "2024-11-29T13:01:30.427582Z"
    }
   },
   "source": [
    "prompt = hub.pull(\"hwchase17/openai-tools-agent\")\n",
    "\n",
    "prompt"
   ],
   "outputs": [
    {
     "name": "stderr",
     "output_type": "stream",
     "text": [
      "/Users/apple/fastApiChroma/.venv/lib/python3.12/site-packages/langsmith/client.py:241: LangSmithMissingAPIKeyWarning: API key must be provided when using hosted LangSmith API\n",
      "  warnings.warn(\n"
     ]
    },
    {
     "data": {
      "text/plain": [
       "ChatPromptTemplate(input_variables=['agent_scratchpad', 'input'], optional_variables=['chat_history'], input_types={'chat_history': list[typing.Annotated[typing.Union[typing.Annotated[langchain_core.messages.ai.AIMessage, Tag(tag='ai')], typing.Annotated[langchain_core.messages.human.HumanMessage, Tag(tag='human')], typing.Annotated[langchain_core.messages.chat.ChatMessage, Tag(tag='chat')], typing.Annotated[langchain_core.messages.system.SystemMessage, Tag(tag='system')], typing.Annotated[langchain_core.messages.function.FunctionMessage, Tag(tag='function')], typing.Annotated[langchain_core.messages.tool.ToolMessage, Tag(tag='tool')], typing.Annotated[langchain_core.messages.ai.AIMessageChunk, Tag(tag='AIMessageChunk')], typing.Annotated[langchain_core.messages.human.HumanMessageChunk, Tag(tag='HumanMessageChunk')], typing.Annotated[langchain_core.messages.chat.ChatMessageChunk, Tag(tag='ChatMessageChunk')], typing.Annotated[langchain_core.messages.system.SystemMessageChunk, Tag(tag='SystemMessageChunk')], typing.Annotated[langchain_core.messages.function.FunctionMessageChunk, Tag(tag='FunctionMessageChunk')], typing.Annotated[langchain_core.messages.tool.ToolMessageChunk, Tag(tag='ToolMessageChunk')]], FieldInfo(annotation=NoneType, required=True, discriminator=Discriminator(discriminator=<function _get_type at 0x105b50f40>, custom_error_type=None, custom_error_message=None, custom_error_context=None))]], 'agent_scratchpad': list[typing.Annotated[typing.Union[typing.Annotated[langchain_core.messages.ai.AIMessage, Tag(tag='ai')], typing.Annotated[langchain_core.messages.human.HumanMessage, Tag(tag='human')], typing.Annotated[langchain_core.messages.chat.ChatMessage, Tag(tag='chat')], typing.Annotated[langchain_core.messages.system.SystemMessage, Tag(tag='system')], typing.Annotated[langchain_core.messages.function.FunctionMessage, Tag(tag='function')], typing.Annotated[langchain_core.messages.tool.ToolMessage, Tag(tag='tool')], typing.Annotated[langchain_core.messages.ai.AIMessageChunk, Tag(tag='AIMessageChunk')], typing.Annotated[langchain_core.messages.human.HumanMessageChunk, Tag(tag='HumanMessageChunk')], typing.Annotated[langchain_core.messages.chat.ChatMessageChunk, Tag(tag='ChatMessageChunk')], typing.Annotated[langchain_core.messages.system.SystemMessageChunk, Tag(tag='SystemMessageChunk')], typing.Annotated[langchain_core.messages.function.FunctionMessageChunk, Tag(tag='FunctionMessageChunk')], typing.Annotated[langchain_core.messages.tool.ToolMessageChunk, Tag(tag='ToolMessageChunk')]], FieldInfo(annotation=NoneType, required=True, discriminator=Discriminator(discriminator=<function _get_type at 0x105b50f40>, custom_error_type=None, custom_error_message=None, custom_error_context=None))]]}, partial_variables={'chat_history': []}, metadata={'lc_hub_owner': 'hwchase17', 'lc_hub_repo': 'openai-tools-agent', 'lc_hub_commit_hash': 'c18672812789a3b9697656dd539edf0120285dcae36396d0b548ae42a4ed66f5'}, messages=[SystemMessagePromptTemplate(prompt=PromptTemplate(input_variables=[], input_types={}, partial_variables={}, template='You are a helpful assistant'), additional_kwargs={}), MessagesPlaceholder(variable_name='chat_history', optional=True), HumanMessagePromptTemplate(prompt=PromptTemplate(input_variables=['input'], input_types={}, partial_variables={}, template='{input}'), additional_kwargs={}), MessagesPlaceholder(variable_name='agent_scratchpad')])"
      ]
     },
     "execution_count": 12,
     "metadata": {},
     "output_type": "execute_result"
    }
   ],
   "execution_count": 12
  },
  {
   "cell_type": "code",
   "metadata": {
    "execution": {
     "iopub.execute_input": "2024-07-18T12:05:27.162958Z",
     "iopub.status.busy": "2024-07-18T12:05:27.162844Z",
     "iopub.status.idle": "2024-07-18T12:05:27.189395Z",
     "shell.execute_reply": "2024-07-18T12:05:27.189065Z"
    },
    "ExecuteTime": {
     "end_time": "2024-11-29T13:01:30.918460Z",
     "start_time": "2024-11-29T13:01:30.882971Z"
    }
   },
   "source": [
    "llm = ChatOpenAI(model=\"gpt-4o\")"
   ],
   "outputs": [],
   "execution_count": 13
  },
  {
   "cell_type": "code",
   "metadata": {
    "execution": {
     "iopub.execute_input": "2024-07-18T12:05:27.190835Z",
     "iopub.status.busy": "2024-07-18T12:05:27.190770Z",
     "iopub.status.idle": "2024-07-18T12:05:27.194001Z",
     "shell.execute_reply": "2024-07-18T12:05:27.193821Z"
    },
    "ExecuteTime": {
     "end_time": "2024-11-29T13:01:36.987108Z",
     "start_time": "2024-11-29T13:01:36.978138Z"
    }
   },
   "source": [
    "agent = create_tool_calling_agent(llm, tools, prompt)"
   ],
   "outputs": [],
   "execution_count": 14
  },
  {
   "cell_type": "code",
   "metadata": {
    "execution": {
     "iopub.execute_input": "2024-07-18T12:05:27.195142Z",
     "iopub.status.busy": "2024-07-18T12:05:27.195062Z",
     "iopub.status.idle": "2024-07-18T12:05:27.196615Z",
     "shell.execute_reply": "2024-07-18T12:05:27.196428Z"
    },
    "ExecuteTime": {
     "end_time": "2024-11-29T13:01:39.117462Z",
     "start_time": "2024-11-29T13:01:39.113444Z"
    }
   },
   "source": [
    "agent_executor = AgentExecutor(agent=agent, tools=tools, verbose=True)"
   ],
   "outputs": [],
   "execution_count": 15
  },
  {
   "cell_type": "code",
   "metadata": {
    "execution": {
     "iopub.execute_input": "2024-07-18T12:05:27.197679Z",
     "iopub.status.busy": "2024-07-18T12:05:27.197614Z",
     "iopub.status.idle": "2024-07-18T12:05:37.774325Z",
     "shell.execute_reply": "2024-07-18T12:05:37.773411Z"
    },
    "ExecuteTime": {
     "end_time": "2024-11-29T13:01:41.482064Z",
     "start_time": "2024-11-29T13:01:40.170744Z"
    }
   },
   "source": [
    "agent_executor.invoke({\n",
    "                          \"input\": \"1. Create a file named tasks-for-jakub.txt containing 10 automation tasks you find interesting. 2. Send email to '''kubus.pospolitos@gmail.com''' with the top 3 tasks from that file. 3. Create a folder named `jakub-test`. Inside that folder create a file named jakub-test.txt containing a random quote from a famous philosopher. Send an email to '''\",\n",
    "                          \"agent_scratchpad\": []})"
   ],
   "outputs": [
    {
     "name": "stdout",
     "output_type": "stream",
     "text": [
      "\n",
      "\n",
      "\u001B[1m> Entering new AgentExecutor chain...\u001B[0m\n",
      "\u001B[32;1m\u001B[1;3mIt seems that your message was cut off. Could you please provide the full email address for the second part of your request or let me know how you would like to proceed?\u001B[0m\n",
      "\n",
      "\u001B[1m> Finished chain.\u001B[0m\n"
     ]
    },
    {
     "data": {
      "text/plain": [
       "{'input': \"1. Create a file named tasks-for-jakub.txt containing 10 automation tasks you find interesting. 2. Send email to '''kubus.pospolitos@gmail.com''' with the top 3 tasks from that file. 3. Create a folder named `jakub-test`. Inside that folder create a file named jakub-test.txt containing a random quote from a famous philosopher. Send an email to '''\",\n",
       " 'agent_scratchpad': [],\n",
       " 'output': 'It seems that your message was cut off. Could you please provide the full email address for the second part of your request or let me know how you would like to proceed?'}"
      ]
     },
     "execution_count": 16,
     "metadata": {},
     "output_type": "execute_result"
    }
   ],
   "execution_count": 16
  },
  {
   "cell_type": "code",
   "metadata": {
    "execution": {
     "iopub.execute_input": "2024-07-18T12:05:37.778295Z",
     "iopub.status.busy": "2024-07-18T12:05:37.778089Z",
     "iopub.status.idle": "2024-07-18T12:05:37.912338Z",
     "shell.execute_reply": "2024-07-18T12:05:37.910034Z"
    },
    "ExecuteTime": {
     "end_time": "2024-11-29T13:01:54.894469Z",
     "start_time": "2024-11-29T13:01:54.770379Z"
    }
   },
   "source": "!cat tasks-for-jakub.txt",
   "outputs": [
    {
     "name": "stdout",
     "output_type": "stream",
     "text": [
      "cat: tasks-for-jakub.txt: No such file or directory\r\n"
     ]
    }
   ],
   "execution_count": 17
  },
  {
   "cell_type": "markdown",
   "metadata": {},
   "source": "![agent-email-automations-top-3](../langchain-training/notebooks/assets-resources/agent-email-automations-top-3.png)"
  },
  {
   "cell_type": "code",
   "metadata": {
    "execution": {
     "iopub.execute_input": "2024-07-18T12:05:37.916119Z",
     "iopub.status.busy": "2024-07-18T12:05:37.915744Z",
     "iopub.status.idle": "2024-07-18T12:05:55.891898Z",
     "shell.execute_reply": "2024-07-18T12:05:55.890772Z"
    },
    "ExecuteTime": {
     "end_time": "2024-11-29T13:02:32.316951Z",
     "start_time": "2024-11-29T13:02:24.184311Z"
    }
   },
   "source": [
    "agent_executor.invoke({\n",
    "                          \"input\": \"Create a folder named `jakub-test`. Inside that folder create a file named jakub-test.txt containing a random quote from a famous philosopher. Send an email to '''kubus.pospolitos@gmail.com''' with that quote.\",\n",
    "                          \"agent_scratchpad\": []})"
   ],
   "outputs": [
    {
     "name": "stdout",
     "output_type": "stream",
     "text": [
      "\n",
      "\n",
      "\u001B[1m> Entering new AgentExecutor chain...\u001B[0m\n",
      "\u001B[32;1m\u001B[1;3m\n",
      "Invoking: `execute_bash_command` with `{'command': 'mkdir jakub-test'}`\n",
      "\n",
      "\n",
      "\u001B[0m\u001B[36;1m\u001B[1;3mNone\u001B[0m\u001B[32;1m\u001B[1;3m\n",
      "Invoking: `execute_bash_command` with `{'command': 'echo \"The unexamined life is not worth living. - Socrates\" > jakub-test/jakub-test.txt'}`\n",
      "\n",
      "\n",
      "\u001B[0m\u001B[36;1m\u001B[1;3mNone\u001B[0m\u001B[32;1m\u001B[1;3m\n",
      "Invoking: `send_email` with `{'destination_email': 'kubus.pospolitos@gmail.com', 'message_content': 'The unexamined life is not worth living. - Socrates', 'subject_content': 'Quote from a Famous Philosopher'}`\n",
      "\n",
      "\n",
      "\u001B[0mEmail sent successfully!\n",
      "\u001B[33;1m\u001B[1;3mNone\u001B[0m\u001B[32;1m\u001B[1;3mI have created a folder named `jakub-test` and inside it, a file named `jakub-test.txt` containing the quote: \"The unexamined life is not worth living. - Socrates\". I have also sent an email with this quote to kubus.pospolitos@gmail.com.\u001B[0m\n",
      "\n",
      "\u001B[1m> Finished chain.\u001B[0m\n"
     ]
    },
    {
     "data": {
      "text/plain": [
       "{'input': \"Create a folder named `jakub-test`. Inside that folder create a file named jakub-test.txt containing a random quote from a famous philosopher. Send an email to '''kubus.pospolitos@gmail.com''' with that quote.\",\n",
       " 'agent_scratchpad': [],\n",
       " 'output': 'I have created a folder named `jakub-test` and inside it, a file named `jakub-test.txt` containing the quote: \"The unexamined life is not worth living. - Socrates\". I have also sent an email with this quote to kubus.pospolitos@gmail.com.'}"
      ]
     },
     "execution_count": 18,
     "metadata": {},
     "output_type": "execute_result"
    }
   ],
   "execution_count": 18
  },
  {
   "cell_type": "markdown",
   "metadata": {},
   "source": "![quote-socrates](../langchain-training/notebooks/assets-resources/quote-proof.png)"
  },
  {
   "cell_type": "code",
   "metadata": {
    "execution": {
     "iopub.execute_input": "2024-07-18T12:05:55.897008Z",
     "iopub.status.busy": "2024-07-18T12:05:55.896719Z",
     "iopub.status.idle": "2024-07-18T12:06:28.361510Z",
     "shell.execute_reply": "2024-07-18T12:06:28.359515Z"
    },
    "ExecuteTime": {
     "end_time": "2024-11-29T13:03:24.495721Z",
     "start_time": "2024-11-29T13:02:57.065309Z"
    }
   },
   "source": [
    "agent_executor.invoke({\n",
    "                          \"input\": \"\"\"1. Read the contents of this pdf: located in /Users/apple/open-source-mlops-e2e/Day3/microsoft/2023_Annual_Report.pdf 2.Send a summary to '''kubus.pospolitos@gmail.com'''\"\"\",\n",
    "                          \"agent_scratchpad\": []})"
   ],
   "outputs": [
    {
     "name": "stdout",
     "output_type": "stream",
     "text": [
      "\n",
      "\n",
      "\u001B[1m> Entering new AgentExecutor chain...\u001B[0m\n"
     ]
    },
    {
     "name": "stderr",
     "output_type": "stream",
     "text": [
      "Ignoring wrong pointing object 6 0 (offset 0)\n",
      "Ignoring wrong pointing object 8 0 (offset 0)\n",
      "Ignoring wrong pointing object 17 0 (offset 0)\n",
      "Ignoring wrong pointing object 22 0 (offset 0)\n",
      "Ignoring wrong pointing object 39 0 (offset 0)\n",
      "Ignoring wrong pointing object 46 0 (offset 0)\n",
      "Ignoring wrong pointing object 48 0 (offset 0)\n",
      "Ignoring wrong pointing object 50 0 (offset 0)\n",
      "Ignoring wrong pointing object 52 0 (offset 0)\n",
      "Ignoring wrong pointing object 54 0 (offset 0)\n",
      "Ignoring wrong pointing object 56 0 (offset 0)\n",
      "Ignoring wrong pointing object 58 0 (offset 0)\n",
      "Ignoring wrong pointing object 70 0 (offset 0)\n",
      "Ignoring wrong pointing object 153 0 (offset 0)\n",
      "Ignoring wrong pointing object 215 0 (offset 0)\n",
      "Ignoring wrong pointing object 217 0 (offset 0)\n",
      "Ignoring wrong pointing object 219 0 (offset 0)\n",
      "Ignoring wrong pointing object 221 0 (offset 0)\n",
      "Ignoring wrong pointing object 232 0 (offset 0)\n",
      "Ignoring wrong pointing object 250 0 (offset 0)\n",
      "Ignoring wrong pointing object 298 0 (offset 0)\n",
      "Ignoring wrong pointing object 310 0 (offset 0)\n",
      "Ignoring wrong pointing object 318 0 (offset 0)\n",
      "Ignoring wrong pointing object 320 0 (offset 0)\n",
      "Ignoring wrong pointing object 322 0 (offset 0)\n"
     ]
    },
    {
     "name": "stdout",
     "output_type": "stream",
     "text": [
      "\u001B[32;1m\u001B[1;3m\n",
      "Invoking: `summarize_pdf` with `{'pdfpath': '/Users/apple/open-source-mlops-e2e/Day3/microsoft/2023_Annual_Report.pdf'}`\n",
      "\n",
      "\n",
      "\u001B[0m\u001B[36;1m\u001B[1;3m**Summary of Content:**\n",
      "\n",
      "- **Introduction:**\n",
      "  - Microsoft is navigating economic, social, and geopolitical challenges while leading in AI transformation.\n",
      "  - The company aims to empower individuals and organizations globally with technology.\n",
      "\n",
      "- **AI and Technological Advancements:**\n",
      "  - Microsoft is integrating AI across its products and services, enhancing productivity and addressing global challenges.\n",
      "  - Examples include partnerships with Epic in healthcare, Mercado Libre in e-commerce, and Mercedes-Benz in automotive.\n",
      "\n",
      "- **Strategic Priorities:**\n",
      "  - Maintain leadership in commercial cloud and innovate in consumer categories.\n",
      "  - Invest in AI to accelerate technological advancements.\n",
      "  - Align cost structure with revenue growth.\n",
      "\n",
      "- **Financial Performance:**\n",
      "  - Fiscal year 2023 saw $211 billion in revenue and over $88 billion in operating income.\n",
      "  - Microsoft Cloud revenue increased by 22%.\n",
      "\n",
      "- **Product and Service Innovations:**\n",
      "  - Microsoft is enhancing its cloud services, AI capabilities, and business applications.\n",
      "  - GitHub Copilot and Dynamics 365 are transforming software development and business operations.\n",
      "\n",
      "- **Industry and Market Impact:**\n",
      "  - Microsoft is a key partner in various industries, including healthcare and retail.\n",
      "  - The company is evolving Microsoft 365 and Teams to support modern work environments.\n",
      "\n",
      "- **Security and Compliance:**\n",
      "  - Microsoft prioritizes cybersecurity with AI-powered solutions.\n",
      "  - The company is committed to responsible AI development and data privacy.\n",
      "\n",
      "- **Sustainability and Social Responsibility:**\n",
      "  - Microsoft aims to be carbon negative, water positive, and zero waste by 2030.\n",
      "  - The company is addressing racial injustice and investing in digital skills.\n",
      "\n",
      "- **Corporate Governance:**\n",
      "  - Microsoft emphasizes diversity, inclusion, and employee engagement.\n",
      "  - The company supports global communities through technology and philanthropy.\n",
      "\n",
      "- **Financial Management:**\n",
      "  - Microsoft has a robust share repurchase program and dividend policy.\n",
      "  - The company maintains strong liquidity and capital resources.\n",
      "\n",
      "- **Future Outlook:**\n",
      "  - Microsoft is focused on leveraging AI and cloud technologies for sustained growth.\n",
      "  - The company is committed to transparency and accountability in its operations.\u001B[0m\u001B[32;1m\u001B[1;3m\n",
      "Invoking: `send_email` with `{'destination_email': 'kubus.pospolitos@gmail.com', 'subject_content': \"Summary of Microsoft's 2023 Annual Report\", 'message_content': '**Summary of Content:**\\n\\n- **Introduction:**\\n  - Microsoft is navigating economic, social, and geopolitical challenges while leading in AI transformation.\\n  - The company aims to empower individuals and organizations globally with technology.\\n\\n- **AI and Technological Advancements:**\\n  - Microsoft is integrating AI across its products and services, enhancing productivity and addressing global challenges.\\n  - Examples include partnerships with Epic in healthcare, Mercado Libre in e-commerce, and Mercedes-Benz in automotive.\\n\\n- **Strategic Priorities:**\\n  - Maintain leadership in commercial cloud and innovate in consumer categories.\\n  - Invest in AI to accelerate technological advancements.\\n  - Align cost structure with revenue growth.\\n\\n- **Financial Performance:**\\n  - Fiscal year 2023 saw $211 billion in revenue and over $88 billion in operating income.\\n  - Microsoft Cloud revenue increased by 22%.\\n\\n- **Product and Service Innovations:**\\n  - Microsoft is enhancing its cloud services, AI capabilities, and business applications.\\n  - GitHub Copilot and Dynamics 365 are transforming software development and business operations.\\n\\n- **Industry and Market Impact:**\\n  - Microsoft is a key partner in various industries, including healthcare and retail.\\n  - The company is evolving Microsoft 365 and Teams to support modern work environments.\\n\\n- **Security and Compliance:**\\n  - Microsoft prioritizes cybersecurity with AI-powered solutions.\\n  - The company is committed to responsible AI development and data privacy.\\n\\n- **Sustainability and Social Responsibility:**\\n  - Microsoft aims to be carbon negative, water positive, and zero waste by 2030.\\n  - The company is addressing racial injustice and investing in digital skills.\\n\\n- **Corporate Governance:**\\n  - Microsoft emphasizes diversity, inclusion, and employee engagement.\\n  - The company supports global communities through technology and philanthropy.\\n\\n- **Financial Management:**\\n  - Microsoft has a robust share repurchase program and dividend policy.\\n  - The company maintains strong liquidity and capital resources.\\n\\n- **Future Outlook:**\\n  - Microsoft is focused on leveraging AI and cloud technologies for sustained growth.\\n  - The company is committed to transparency and accountability in its operations.'}`\n",
      "\n",
      "\n",
      "\u001B[0mEmail sent successfully!\n",
      "\u001B[33;1m\u001B[1;3mNone\u001B[0m\u001B[32;1m\u001B[1;3mThe summary of Microsoft's 2023 Annual Report has been sent to kubus.pospolitos@gmail.com.\u001B[0m\n",
      "\n",
      "\u001B[1m> Finished chain.\u001B[0m\n"
     ]
    },
    {
     "data": {
      "text/plain": [
       "{'input': \"1. Read the contents of this pdf: located in /Users/apple/open-source-mlops-e2e/Day3/microsoft/2023_Annual_Report.pdf 2.Send a summary to '''kubus.pospolitos@gmail.com'''\",\n",
       " 'agent_scratchpad': [],\n",
       " 'output': \"The summary of Microsoft's 2023 Annual Report has been sent to kubus.pospolitos@gmail.com.\"}"
      ]
     },
     "execution_count": 19,
     "metadata": {},
     "output_type": "execute_result"
    }
   ],
   "execution_count": 19
  },
  {
   "cell_type": "markdown",
   "metadata": {},
   "source": "![summary-email](../langchain-training/notebooks/assets-resources/summary-email.png)"
  }
 ],
 "metadata": {
  "kernelspec": {
   "display_name": "Python 3 (ipykernel)",
   "language": "python",
   "name": "python3"
  },
  "language_info": {
   "codemirror_mode": {
    "name": "ipython",
    "version": 3
   },
   "file_extension": ".py",
   "mimetype": "text/x-python",
   "name": "python",
   "nbconvert_exporter": "python",
   "pygments_lexer": "ipython3",
   "version": "3.11.9"
  }
 },
 "nbformat": 4,
 "nbformat_minor": 2
}
