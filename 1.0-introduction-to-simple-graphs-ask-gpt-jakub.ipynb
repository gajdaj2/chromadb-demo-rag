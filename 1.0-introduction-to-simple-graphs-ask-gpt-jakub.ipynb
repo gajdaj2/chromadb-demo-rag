{
 "cells": [
  {
   "cell_type": "markdown",
   "metadata": {},
   "source": [
    "# States\n",
    "# Nodes\n",
    "# Edges\n",
    "# Graph (build & invoke)"
   ]
  },
  {
   "cell_type": "code",
   "metadata": {
    "ExecuteTime": {
     "end_time": "2024-11-24T11:23:25.997209Z",
     "start_time": "2024-11-24T11:23:23.660587Z"
    }
   },
   "source": [
    "from dotenv import load_dotenv\n",
    "from langchain_ollama import ChatOllama\n",
    "%%capture --no-stderr\n",
    "%pip install --quiet -U langgraph"
   ],
   "outputs": [],
   "execution_count": 1
  },
  {
   "cell_type": "markdown",
   "metadata": {},
   "source": [
    "# <img src=\"2024-11-07-17-45-33.png\" width=\"50%\"/>"
   ]
  },
  {
   "cell_type": "code",
   "metadata": {
    "ExecuteTime": {
     "end_time": "2024-11-29T14:11:08.792017Z",
     "start_time": "2024-11-29T14:11:08.780824Z"
    }
   },
   "source": [
    "from dotenv import load_dotenv\n",
    "load_dotenv()"
   ],
   "outputs": [
    {
     "data": {
      "text/plain": [
       "True"
      ]
     },
     "execution_count": 2,
     "metadata": {},
     "output_type": "execute_result"
    }
   ],
   "execution_count": 2
  },
  {
   "cell_type": "code",
   "metadata": {
    "ExecuteTime": {
     "end_time": "2024-11-29T14:11:16.227512Z",
     "start_time": "2024-11-29T14:11:15.829657Z"
    }
   },
   "source": [
    "from langgraph.graph import StateGraph, START, END"
   ],
   "outputs": [],
   "execution_count": 3
  },
  {
   "cell_type": "markdown",
   "metadata": {},
   "source": [
    "# State\n",
    "\n",
    "State as a simple data structure that we update as we execute the graph."
   ]
  },
  {
   "cell_type": "code",
   "metadata": {
    "ExecuteTime": {
     "end_time": "2024-11-24T16:26:12.555570Z",
     "start_time": "2024-11-24T16:26:12.553583Z"
    }
   },
   "source": [],
   "outputs": [],
   "execution_count": null
  },
  {
   "cell_type": "code",
   "metadata": {
    "ExecuteTime": {
     "end_time": "2024-11-29T14:11:25.620103Z",
     "start_time": "2024-11-29T14:11:25.617131Z"
    }
   },
   "source": [
    "from typing_extensions import TypedDict\n",
    "\n",
    "\n",
    "class State(TypedDict):\n",
    "    graph_state: str\n",
    "    question: str\n",
    "    number_of_question: int"
   ],
   "outputs": [],
   "execution_count": 4
  },
  {
   "cell_type": "code",
   "metadata": {
    "ExecuteTime": {
     "end_time": "2024-11-29T14:12:53.317052Z",
     "start_time": "2024-11-29T14:12:53.282568Z"
    }
   },
   "source": [
    "from typing import Literal\n",
    "import random\n",
    "from ollama import chat\n",
    "\n",
    "\n",
    "def conditional_node(state) -> Literal[\"node_bill_gates\", \"node_normal\"]:\n",
    "    print(\"Passing by conditional\")\n",
    "    print(\"State\", state)\n",
    "    user_input = state[\"question\"]\n",
    "    if state[\"question\"] == \"Who is Bill Gates?\":\n",
    "        print(\"You ask about Bill Gates in conditional\")\n",
    "        return \"node_bill_gates\"\n",
    "    else:\n",
    "        print()\n",
    "        return \"node_normal\"\n",
    "\n",
    "def node_normal(state):\n",
    "    print(\"State\", state)\n",
    "    print(\"Passing by normal\")\n",
    "    response = chat(model='gemma2:2b', messages=[\n",
    "            {\n",
    "                'role': 'user',\n",
    "                'content': state[\"question\"],\n",
    "            },\n",
    "        ])\n",
    "    state[\"question\"] = response['message']['content']\n",
    "    return state\n",
    "\n",
    "def node_bill_gates(state):\n",
    "    print(\"You ask about Bill Gates\")\n",
    "    print(\"State\", state)\n",
    "    response = chat(model='gemma2:2b', messages=[\n",
    "            {\n",
    "                'role': 'user',\n",
    "                'content': state[\"question\"],\n",
    "            },\n",
    "        ])\n",
    "    state[\"question\"] = response['message']['content']\n",
    "    return state\n",
    "\n",
    "def node_start(state):\n",
    "    print(\"State\", state)\n",
    "    print(\"Passing by node 1\")\n",
    "    state[\"question\"] = state[\"question\"]\n",
    "    print(\"Question: \", state[\"question\"])\n",
    "    return state\n",
    "\n",
    "def node_end(state):\n",
    "    print(\"Passing by node 44\")\n",
    "    print(\"State\", state)\n",
    "    state[\"graph_state\"] = \"Lucas giving a presentation\"\n",
    "    state[\"question\"] = \"It was a beautiful question!\"\n",
    "    state[\"number_of_question\"] = state[\"number_of_question\"]\n",
    "    return state"
   ],
   "outputs": [],
   "execution_count": 5
  },
  {
   "cell_type": "code",
   "metadata": {
    "ExecuteTime": {
     "end_time": "2024-11-29T14:12:59.470997Z",
     "start_time": "2024-11-29T14:12:59.466026Z"
    }
   },
   "source": [
    "from langgraph.graph import StateGraph, START, END\n",
    "\n",
    "builder = StateGraph(State)\n",
    "\n",
    "builder.add_node(\"node_normal\", node_normal)\n",
    "builder.add_node(\"node_bill_gates\", node_bill_gates)\n",
    "builder.add_node(\"node_start\", node_start)\n",
    "\n",
    "builder.add_edge(START, \"node_start\")\n",
    "builder.add_conditional_edges(\"node_start\", conditional_node)\n",
    "builder.add_edge(\"node_normal\", END)\n",
    "builder.add_edge(\"node_bill_gates\", END)\n",
    "\n",
    "graph = builder.compile()"
   ],
   "outputs": [],
   "execution_count": 6
  },
  {
   "cell_type": "code",
   "metadata": {
    "ExecuteTime": {
     "end_time": "2024-11-29T14:13:01.847706Z",
     "start_time": "2024-11-29T14:13:01.318460Z"
    }
   },
   "source": [
    "from IPython.display import Image, display\n",
    "\n",
    "display(Image(graph.get_graph().draw_mermaid_png()))"
   ],
   "outputs": [
    {
     "data": {
      "image/png": "[encoded data removed]",
      "text/plain": [
       "<IPython.core.display.Image object>"
      ]
     },
     "metadata": {},
     "output_type": "display_data"
    }
   ],
   "execution_count": 7
  },
  {
   "cell_type": "code",
   "metadata": {
    "ExecuteTime": {
     "end_time": "2024-11-29T14:13:29.884331Z",
     "start_time": "2024-11-29T14:13:13.573231Z"
    }
   },
   "source": "graph.invoke({\"question\": \"Who is Bill Gates?\",\"number_of_question\": \"1\"})",
   "outputs": [
    {
     "name": "stdout",
     "output_type": "stream",
     "text": [
      "State {'question': 'Who is Bill Gates?', 'number_of_question': '1'}\n",
      "Passing by node 1\n",
      "Question:  Who is Bill Gates?\n",
      "Passing by conditional\n",
      "State {'question': 'Who is Bill Gates?', 'number_of_question': '1'}\n",
      "You ask about Bill Gates in conditional\n",
      "You ask about Bill Gates\n",
      "State {'question': 'Who is Bill Gates?', 'number_of_question': '1'}\n"
     ]
    },
    {
     "data": {
      "text/plain": [
       "{'question': 'Bill Gates is a highly influential figure in the world of technology and philanthropy. Here\\'s a summary:\\n\\n**He\\'s best known for:**\\n\\n* **Co-founding Microsoft:**  Gates co-created Microsoft, one of the most successful software companies in history, revolutionizing personal computing and shaping how we interact with computers.\\n* **Tech Pioneer:** He played a major role in developing the personal computer industry, ushering in an era of widespread digital access and innovation. \\n* **Business Mogul & Investor:** Gates is recognized as one of the richest people in the world, thanks to his stake in Microsoft\\'s success.  He also actively invests in various startups and ventures.\\n\\n**Beyond technology:**\\n\\n* **Philanthropist:** Gates established the Bill & Melinda Gates Foundation with his then-wife Melinda French Gates, where they focus on global health, poverty alleviation, and education initiatives. This foundation is one of the world\\'s largest philanthropic organizations, impacting millions of lives globally.\\n* **Author & Speaker:**  He has written extensively about technology, business, and philanthropy, sharing his insights through books like \"The Road Ahead\" and speeches at various international events.\\n\\n**Legacy & Impact:**\\n\\nBill Gates\\' impact extends far beyond the tech industry. He has been a driving force behind:\\n\\n* **Digital Revolution:** The widespread adoption of personal computers is directly linked to Microsoft\\'s success, which led to significant advancements in technology.\\n* **Global Health Advancements:**  The Bill & Melinda Gates Foundation\\'s investments have contributed significantly to eradicating diseases like malaria and polio, and advancing healthcare initiatives globally. \\n* **Educational Access:** Their efforts towards education reform have broadened access to learning opportunities for millions of children worldwide.\\n\\n**To sum up:**\\n\\nBill Gates is a multifaceted individual who has made significant contributions to technology, business, and philanthropy. His legacy continues to shape the world as we know it through his technological innovations, global health initiatives, and dedication to improving lives worldwide. \\n\\n\\nYou can learn more about him on:\\n\\n* **Bill & Melinda Gates Foundation:** https://www.gatesfoundation.org/\\n* **Microsoft\\'s official website:** https://www.microsoft.com/en-us/',\n",
       " 'number_of_question': '1'}"
      ]
     },
     "execution_count": 8,
     "metadata": {},
     "output_type": "execute_result"
    }
   ],
   "execution_count": 8
  },
  {
   "cell_type": "code",
   "metadata": {
    "ExecuteTime": {
     "end_time": "2024-11-24T15:09:39.491519Z",
     "start_time": "2024-11-24T15:09:39.486528Z"
    }
   },
   "source": [
    "from typing import Literal\n",
    "import random\n",
    "\n",
    "\n",
    "def node1(state):\n",
    "    print(\"Passing by node 1\")\n",
    "    state[\"graph_state\"] = \"node 1\"\n",
    "    return state\n",
    "\n",
    "\n",
    "def node2(state):\n",
    "    print(\"Passing by node 2\")\n",
    "    state[\"graph_state\"] = \"node 2\"\n",
    "    return state\n",
    "\n",
    "\n",
    "def node3(state):\n",
    "    print(\"Passing by node 3\")\n",
    "    state[\"graph_state\"] = \"node 3\"\n",
    "    return state\n",
    "\n",
    "\n",
    "# Implementing some conditional logic\n",
    "def decision_node(state) -> Literal[\"node2\", \"node3\"]:\n",
    "    user_input = state[\"graph_state\"]\n",
    "\n",
    "    if random.random() > 0.5:\n",
    "        return \"node2\"\n",
    "    else:\n",
    "        return \"node3\""
   ],
   "outputs": [],
   "execution_count": 20
  },
  {
   "cell_type": "code",
   "metadata": {
    "ExecuteTime": {
     "end_time": "2024-11-24T15:09:40.839036Z",
     "start_time": "2024-11-24T15:09:40.834564Z"
    }
   },
   "source": [
    "builder = StateGraph(State)\n",
    "\n",
    "builder.add_node(\"node1\", node1)\n",
    "builder.add_node(\"node2\", node2)\n",
    "builder.add_node(\"node3\", node3)\n",
    "\n",
    "builder.add_edge(START, \"node1\")\n",
    "builder.add_conditional_edges(\"node1\", decision_node)\n",
    "builder.add_edge(\"node2\", END)\n",
    "builder.add_edge(\"node3\", END)\n",
    "\n",
    "graph = builder.compile()"
   ],
   "outputs": [],
   "execution_count": 21
  },
  {
   "cell_type": "code",
   "metadata": {
    "ExecuteTime": {
     "end_time": "2024-11-24T15:09:42.835314Z",
     "start_time": "2024-11-24T15:09:42.308986Z"
    }
   },
   "source": [
    "from IPython.display import Image, display\n",
    "\n",
    "display(Image(graph.get_graph().draw_mermaid_png()))"
   ],
   "outputs": [
    {
     "data": {
      "image/jpeg": "[encoded data removed]",
      "text/plain": [
       "<IPython.core.display.Image object>"
      ]
     },
     "metadata": {},
     "output_type": "display_data"
    }
   ],
   "execution_count": 22
  },
  {
   "cell_type": "code",
   "metadata": {
    "ExecuteTime": {
     "end_time": "2024-11-24T15:09:44.828121Z",
     "start_time": "2024-11-24T15:09:44.821037Z"
    }
   },
   "source": [
    "graph.invoke({\"graph_state\": \"\"})"
   ],
   "outputs": [
    {
     "name": "stdout",
     "output_type": "stream",
     "text": [
      "Passing by node 1\n",
      "Passing by node 3\n"
     ]
    },
    {
     "data": {
      "text/plain": [
       "{'graph_state': 'node 3'}"
      ]
     },
     "execution_count": 23,
     "metadata": {},
     "output_type": "execute_result"
    }
   ],
   "execution_count": 23
  },
  {
   "cell_type": "code",
   "metadata": {
    "ExecuteTime": {
     "end_time": "2024-11-24T15:10:06.815052Z",
     "start_time": "2024-11-24T15:10:06.811930Z"
    }
   },
   "source": [
    "import matplotlib.pyplot as plt"
   ],
   "outputs": [],
   "execution_count": 25
  },
  {
   "cell_type": "code",
   "metadata": {
    "ExecuteTime": {
     "end_time": "2024-11-24T15:10:10.955155Z",
     "start_time": "2024-11-24T15:10:10.529985Z"
    }
   },
   "source": [
    "# Run multiple times to collect statistics\n",
    "results = []\n",
    "for _ in range(100):\n",
    "    output = graph.invoke({\"graph_state\": \"\"})\n",
    "    results.append(output[\"graph_state\"])\n",
    "\n",
    "# Count occurrences\n",
    "node2_count = results.count(\"node 2\")\n",
    "node3_count = results.count(\"node 3\")\n",
    "\n",
    "# Create bar chart\n",
    "\n",
    "\n",
    "plt.figure(figsize=(8, 5))\n",
    "plt.bar(['Node 2', 'Node 3'], [node2_count, node3_count])\n",
    "plt.title('Distribution of Graph State Outcomes')\n",
    "plt.ylabel('Count')\n",
    "plt.show()\n",
    "\n",
    "print(f\"Node 2 occurred {node2_count} times\")\n",
    "print(f\"Node 3 occurred {node3_count} times\")\n"
   ],
   "outputs": [
    {
     "name": "stdout",
     "output_type": "stream",
     "text": [
      "Passing by node 1\n",
      "Passing by node 2\n",
      "Passing by node 1\n",
      "Passing by node 2\n",
      "Passing by node 1\n",
      "Passing by node 3\n",
      "Passing by node 1\n",
      "Passing by node 2\n",
      "Passing by node 1\n",
      "Passing by node 2\n",
      "Passing by node 1\n",
      "Passing by node 2\n",
      "Passing by node 1\n",
      "Passing by node 2\n",
      "Passing by node 1\n",
      "Passing by node 2\n",
      "Passing by node 1\n",
      "Passing by node 2\n",
      "Passing by node 1\n",
      "Passing by node 2\n",
      "Passing by node 1\n",
      "Passing by node 2\n",
      "Passing by node 1\n",
      "Passing by node 3\n",
      "Passing by node 1\n",
      "Passing by node 3\n",
      "Passing by node 1\n",
      "Passing by node 2\n",
      "Passing by node 1\n",
      "Passing by node 3\n",
      "Passing by node 1\n",
      "Passing by node 2\n",
      "Passing by node 1\n",
      "Passing by node 2\n",
      "Passing by node 1\n",
      "Passing by node 2\n",
      "Passing by node 1\n",
      "Passing by node 3\n",
      "Passing by node 1\n",
      "Passing by node 3\n",
      "Passing by node 1\n",
      "Passing by node 2\n",
      "Passing by node 1\n",
      "Passing by node 2\n",
      "Passing by node 1\n",
      "Passing by node 2\n",
      "Passing by node 1\n",
      "Passing by node 3\n",
      "Passing by node 1\n",
      "Passing by node 2\n",
      "Passing by node 1\n",
      "Passing by node 3\n",
      "Passing by node 1\n",
      "Passing by node 3\n",
      "Passing by node 1\n",
      "Passing by node 3\n",
      "Passing by node 1\n",
      "Passing by node 3\n",
      "Passing by node 1\n",
      "Passing by node 3\n",
      "Passing by node 1\n",
      "Passing by node 2\n",
      "Passing by node 1\n",
      "Passing by node 3\n",
      "Passing by node 1\n",
      "Passing by node 2\n",
      "Passing by node 1\n",
      "Passing by node 2\n",
      "Passing by node 1\n",
      "Passing by node 3\n",
      "Passing by node 1\n",
      "Passing by node 2\n",
      "Passing by node 1\n",
      "Passing by node 2\n",
      "Passing by node 1\n",
      "Passing by node 3\n",
      "Passing by node 1\n",
      "Passing by node 3\n",
      "Passing by node 1\n",
      "Passing by node 3\n",
      "Passing by node 1\n",
      "Passing by node 3\n",
      "Passing by node 1\n",
      "Passing by node 2\n",
      "Passing by node 1\n",
      "Passing by node 2\n",
      "Passing by node 1\n",
      "Passing by node 2\n",
      "Passing by node 1\n",
      "Passing by node 2\n",
      "Passing by node 1\n",
      "Passing by node 3\n",
      "Passing by node 1\n",
      "Passing by node 3\n",
      "Passing by node 1\n",
      "Passing by node 2\n",
      "Passing by node 1\n",
      "Passing by node 2\n",
      "Passing by node 1\n",
      "Passing by node 3\n",
      "Passing by node 1\n",
      "Passing by node 2\n",
      "Passing by node 1\n",
      "Passing by node 2\n",
      "Passing by node 1\n",
      "Passing by node 3\n",
      "Passing by node 1\n",
      "Passing by node 2\n",
      "Passing by node 1\n",
      "Passing by node 2\n",
      "Passing by node 1\n",
      "Passing by node 2\n",
      "Passing by node 1\n",
      "Passing by node 3\n",
      "Passing by node 1\n",
      "Passing by node 2\n",
      "Passing by node 1\n",
      "Passing by node 3\n",
      "Passing by node 1\n",
      "Passing by node 3\n",
      "Passing by node 1\n",
      "Passing by node 2\n",
      "Passing by node 1\n",
      "Passing by node 2\n",
      "Passing by node 1\n",
      "Passing by node 3\n",
      "Passing by node 1\n",
      "Passing by node 2\n",
      "Passing by node 1\n",
      "Passing by node 3\n",
      "Passing by node 1\n",
      "Passing by node 3\n",
      "Passing by node 1\n",
      "Passing by node 3\n",
      "Passing by node 1\n",
      "Passing by node 3\n",
      "Passing by node 1\n",
      "Passing by node 2\n",
      "Passing by node 1\n",
      "Passing by node 2\n",
      "Passing by node 1\n",
      "Passing by node 2\n",
      "Passing by node 1\n",
      "Passing by node 3\n",
      "Passing by node 1\n",
      "Passing by node 3\n",
      "Passing by node 1\n",
      "Passing by node 3\n",
      "Passing by node 1\n",
      "Passing by node 2\n",
      "Passing by node 1\n",
      "Passing by node 3\n",
      "Passing by node 1\n",
      "Passing by node 2\n",
      "Passing by node 1\n",
      "Passing by node 3\n",
      "Passing by node 1\n",
      "Passing by node 2\n",
      "Passing by node 1\n",
      "Passing by node 2\n",
      "Passing by node 1\n",
      "Passing by node 2\n",
      "Passing by node 1\n",
      "Passing by node 2\n",
      "Passing by node 1\n",
      "Passing by node 3\n",
      "Passing by node 1\n",
      "Passing by node 3\n",
      "Passing by node 1\n",
      "Passing by node 3\n",
      "Passing by node 1\n",
      "Passing by node 3\n",
      "Passing by node 1\n",
      "Passing by node 3\n",
      "Passing by node 1\n",
      "Passing by node 2\n",
      "Passing by node 1\n",
      "Passing by node 3\n",
      "Passing by node 1\n",
      "Passing by node 2\n",
      "Passing by node 1\n",
      "Passing by node 2\n",
      "Passing by node 1\n",
      "Passing by node 2\n",
      "Passing by node 1\n",
      "Passing by node 2\n",
      "Passing by node 1\n",
      "Passing by node 2\n",
      "Passing by node 1\n",
      "Passing by node 3\n",
      "Passing by node 1\n",
      "Passing by node 2\n",
      "Passing by node 1\n",
      "Passing by node 2\n",
      "Passing by node 1\n",
      "Passing by node 2\n",
      "Passing by node 1\n",
      "Passing by node 2\n",
      "Passing by node 1\n",
      "Passing by node 2\n"
     ]
    },
    {
     "data": {
      "text/plain": [
       "<Figure size 800x500 with 1 Axes>"
      ],
      "image/png": "[encoded data removed]"
     },
     "metadata": {},
     "output_type": "display_data"
    },
    {
     "name": "stdout",
     "output_type": "stream",
     "text": [
      "Node 2 occurred 58 times\n",
      "Node 3 occurred 42 times\n"
     ]
    }
   ],
   "execution_count": 26
  },
  {
   "metadata": {},
   "cell_type": "code",
   "outputs": [],
   "execution_count": null,
   "source": ""
  }
 ],
 "metadata": {
  "kernelspec": {
   "display_name": "Python 3 (ipykernel)",
   "language": "python",
   "name": "python3"
  },
  "language_info": {
   "codemirror_mode": {
    "name": "ipython",
    "version": 3
   },
   "file_extension": ".py",
   "mimetype": "text/x-python",
   "name": "python",
   "nbconvert_exporter": "python",
   "pygments_lexer": "ipython3",
   "version": "3.11.10"
  }
 },
 "nbformat": 4,
 "nbformat_minor": 2
}
